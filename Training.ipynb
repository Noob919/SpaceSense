{
  "nbformat": 4,
  "nbformat_minor": 0,
  "metadata": {
    "colab": {
      "provenance": []
    },
    "kernelspec": {
      "name": "python3",
      "display_name": "Python 3"
    },
    "language_info": {
      "name": "python"
    },
    "gpuClass": "standard"
  },
  "cells": [
    {
      "cell_type": "code",
      "execution_count": 11,
      "metadata": {
        "id": "65myS3mO553l"
      },
      "outputs": [],
      "source": [
        "# Import necessary libraries\n",
        "import os\n",
        "import numpy as np\n",
        "from skimage import io\n",
        "import matplotlib.pyplot as plt\n",
        "import tensorflow as tf\n",
        "from tensorflow.keras.models import Sequential\n",
        "from tensorflow.keras.layers import Dense, Flatten, Conv2D, MaxPooling2D, Dropout\n",
        "from tensorflow.keras.optimizers import Adam\n",
        "from tensorflow.keras.callbacks import ModelCheckpoint, EarlyStopping\n",
        "from sklearn.model_selection import train_test_split"
      ]
    },
    {
      "cell_type": "code",
      "source": [
        "datagen = tf.keras.preprocessing.image.ImageDataGenerator(rescale=1./255)"
      ],
      "metadata": {
        "id": "-w-Owoc757Jv"
      },
      "execution_count": 2,
      "outputs": []
    },
    {
      "cell_type": "code",
      "source": [
        "# Load the dataset\n",
        "def load_data(path):\n",
        "    folders = os.listdir(path)\n",
        "    x = []\n",
        "    y = []\n",
        "    for i, folder in enumerate(folders):\n",
        "        files = os.listdir(os.path.join(path, folder))\n",
        "        for file in files:\n",
        "            img = io.imread(os.path.join(path, folder, file))\n",
        "            if img is not None:\n",
        "                x.append(img)\n",
        "                y.append(i)\n",
        "    x = np.array(x)\n",
        "    y = np.array(y)\n",
        "    return x, y\n",
        "\n",
        "path = '/content/drive/MyDrive/EuroSAT/2750'\n",
        "x, y = load_data(path)"
      ],
      "metadata": {
        "id": "F1yofx8P64Ci"
      },
      "execution_count": 3,
      "outputs": []
    },
    {
      "cell_type": "code",
      "source": [
        "# Split the data into training and testing sets\n",
        "x_train, x_test, y_train, y_test = train_test_split(x, y, test_size=0.3, random_state=42)"
      ],
      "metadata": {
        "id": "iQoeJK0J654q"
      },
      "execution_count": 4,
      "outputs": []
    },
    {
      "cell_type": "code",
      "source": [
        "img_size = (64, 64)\n",
        "# Normalize the pixel values\n",
        "x_train = x_train / 255.0\n",
        "x_test = x_test / 255.0"
      ],
      "metadata": {
        "id": "v88g_-r1ADsE"
      },
      "execution_count": 5,
      "outputs": []
    },
    {
      "cell_type": "code",
      "source": [
        "# Define the model architecture\n",
        "model = Sequential([\n",
        "    Conv2D(32, (3, 3), activation='relu', input_shape=(64, 64, 3)),\n",
        "    MaxPooling2D((2, 2)),\n",
        "    Conv2D(64, (3, 3), activation='relu'),\n",
        "    MaxPooling2D((2, 2)),\n",
        "    Conv2D(128, (3, 3), activation='relu'),\n",
        "    MaxPooling2D((2, 2)),\n",
        "    Flatten(),\n",
        "    Dense(128, activation='relu'),\n",
        "    Dropout(0.5),\n",
        "    Dense(10, activation='softmax')\n",
        "])\n"
      ],
      "metadata": {
        "id": "9ko36SxS6-G7"
      },
      "execution_count": 6,
      "outputs": []
    },
    {
      "cell_type": "code",
      "source": [
        "# Compile the model\n",
        "model.compile(optimizer=Adam(learning_rate=0.001), loss='sparse_categorical_crossentropy', metrics=['accuracy'])"
      ],
      "metadata": {
        "id": "fYCAbJVd7OH_"
      },
      "execution_count": 7,
      "outputs": []
    },
    {
      "cell_type": "code",
      "source": [
        "# Define callbacks\n",
        "early_stopping = EarlyStopping(monitor='val_loss', patience=5, verbose=1, mode='min', restore_best_weights=True)\n",
        "checkpoint = ModelCheckpoint('best_model.h5', monitor='val_accuracy', verbose=1, save_best_only=True, mode='max')"
      ],
      "metadata": {
        "id": "qV5SD6Kj7Sm4"
      },
      "execution_count": 8,
      "outputs": []
    },
    {
      "cell_type": "code",
      "source": [
        "# Train the model\n",
        "history = model.fit(x_train, y_train, epochs=30, batch_size=64, validation_data=(x_test,y_test), callbacks=[early_stopping, checkpoint])"
      ],
      "metadata": {
        "colab": {
          "base_uri": "https://localhost:8080/"
        },
        "id": "fjv7aIRa7Wwv",
        "outputId": "12bdb0dc-0b82-48c3-f576-62030cf656d5"
      },
      "execution_count": 10,
      "outputs": [
        {
          "output_type": "stream",
          "name": "stdout",
          "text": [
            "Epoch 1/30\n",
            "296/296 [==============================] - ETA: 0s - loss: 1.2187 - accuracy: 0.5525\n",
            "Epoch 1: val_accuracy improved from -inf to 0.65320, saving model to best_model.h5\n",
            "296/296 [==============================] - 5s 18ms/step - loss: 1.2187 - accuracy: 0.5525 - val_loss: 0.9329 - val_accuracy: 0.6532\n",
            "Epoch 2/30\n",
            "292/296 [============================>.] - ETA: 0s - loss: 0.9875 - accuracy: 0.6489\n",
            "Epoch 2: val_accuracy improved from 0.65320 to 0.68928, saving model to best_model.h5\n",
            "296/296 [==============================] - 3s 12ms/step - loss: 0.9877 - accuracy: 0.6488 - val_loss: 0.8537 - val_accuracy: 0.6893\n",
            "Epoch 3/30\n",
            "291/296 [============================>.] - ETA: 0s - loss: 0.8718 - accuracy: 0.6946\n",
            "Epoch 3: val_accuracy improved from 0.68928 to 0.71485, saving model to best_model.h5\n",
            "296/296 [==============================] - 3s 11ms/step - loss: 0.8706 - accuracy: 0.6950 - val_loss: 0.7818 - val_accuracy: 0.7149\n",
            "Epoch 4/30\n",
            "296/296 [==============================] - ETA: 0s - loss: 0.7963 - accuracy: 0.7187\n",
            "Epoch 4: val_accuracy improved from 0.71485 to 0.78058, saving model to best_model.h5\n",
            "296/296 [==============================] - 4s 14ms/step - loss: 0.7963 - accuracy: 0.7187 - val_loss: 0.6241 - val_accuracy: 0.7806\n",
            "Epoch 5/30\n",
            "295/296 [============================>.] - ETA: 0s - loss: 0.7286 - accuracy: 0.7440\n",
            "Epoch 5: val_accuracy did not improve from 0.78058\n",
            "296/296 [==============================] - 4s 12ms/step - loss: 0.7286 - accuracy: 0.7439 - val_loss: 0.9211 - val_accuracy: 0.6852\n",
            "Epoch 6/30\n",
            "294/296 [============================>.] - ETA: 0s - loss: 0.7012 - accuracy: 0.7539\n",
            "Epoch 6: val_accuracy improved from 0.78058 to 0.80949, saving model to best_model.h5\n",
            "296/296 [==============================] - 3s 12ms/step - loss: 0.7005 - accuracy: 0.7542 - val_loss: 0.5426 - val_accuracy: 0.8095\n",
            "Epoch 7/30\n",
            "296/296 [==============================] - ETA: 0s - loss: 0.6562 - accuracy: 0.7691\n",
            "Epoch 7: val_accuracy did not improve from 0.80949\n",
            "296/296 [==============================] - 3s 11ms/step - loss: 0.6562 - accuracy: 0.7691 - val_loss: 0.6300 - val_accuracy: 0.7818\n",
            "Epoch 8/30\n",
            "293/296 [============================>.] - ETA: 0s - loss: 0.6062 - accuracy: 0.7873\n",
            "Epoch 8: val_accuracy improved from 0.80949 to 0.81468, saving model to best_model.h5\n",
            "296/296 [==============================] - 4s 15ms/step - loss: 0.6067 - accuracy: 0.7870 - val_loss: 0.5161 - val_accuracy: 0.8147\n",
            "Epoch 9/30\n",
            "295/296 [============================>.] - ETA: 0s - loss: 0.6062 - accuracy: 0.7889\n",
            "Epoch 9: val_accuracy did not improve from 0.81468\n",
            "296/296 [==============================] - 3s 11ms/step - loss: 0.6062 - accuracy: 0.7889 - val_loss: 0.5225 - val_accuracy: 0.8112\n",
            "Epoch 10/30\n",
            "291/296 [============================>.] - ETA: 0s - loss: 0.5548 - accuracy: 0.8077\n",
            "Epoch 10: val_accuracy did not improve from 0.81468\n",
            "296/296 [==============================] - 3s 11ms/step - loss: 0.5546 - accuracy: 0.8078 - val_loss: 0.5431 - val_accuracy: 0.8084\n",
            "Epoch 11/30\n",
            "292/296 [============================>.] - ETA: 0s - loss: 0.5441 - accuracy: 0.8100\n",
            "Epoch 11: val_accuracy did not improve from 0.81468\n",
            "296/296 [==============================] - 3s 12ms/step - loss: 0.5435 - accuracy: 0.8101 - val_loss: 0.5457 - val_accuracy: 0.8070\n",
            "Epoch 12/30\n",
            "295/296 [============================>.] - ETA: 0s - loss: 0.5176 - accuracy: 0.8221\n",
            "Epoch 12: val_accuracy did not improve from 0.81468\n",
            "296/296 [==============================] - 4s 15ms/step - loss: 0.5179 - accuracy: 0.8220 - val_loss: 0.6406 - val_accuracy: 0.7800\n",
            "Epoch 13/30\n",
            "291/296 [============================>.] - ETA: 0s - loss: 0.5014 - accuracy: 0.8273\n",
            "Epoch 13: val_accuracy improved from 0.81468 to 0.84235, saving model to best_model.h5\n",
            "296/296 [==============================] - 3s 11ms/step - loss: 0.5007 - accuracy: 0.8277 - val_loss: 0.4509 - val_accuracy: 0.8424\n",
            "Epoch 14/30\n",
            "295/296 [============================>.] - ETA: 0s - loss: 0.4468 - accuracy: 0.8453\n",
            "Epoch 14: val_accuracy improved from 0.84235 to 0.85557, saving model to best_model.h5\n",
            "296/296 [==============================] - 4s 12ms/step - loss: 0.4467 - accuracy: 0.8453 - val_loss: 0.4066 - val_accuracy: 0.8556\n",
            "Epoch 15/30\n",
            "292/296 [============================>.] - ETA: 0s - loss: 0.4183 - accuracy: 0.8548\n",
            "Epoch 15: val_accuracy improved from 0.85557 to 0.86496, saving model to best_model.h5\n",
            "296/296 [==============================] - 4s 14ms/step - loss: 0.4177 - accuracy: 0.8547 - val_loss: 0.3974 - val_accuracy: 0.8650\n",
            "Epoch 16/30\n",
            "294/296 [============================>.] - ETA: 0s - loss: 0.4027 - accuracy: 0.8559\n",
            "Epoch 16: val_accuracy did not improve from 0.86496\n",
            "296/296 [==============================] - 4s 12ms/step - loss: 0.4033 - accuracy: 0.8558 - val_loss: 0.4257 - val_accuracy: 0.8522\n",
            "Epoch 17/30\n",
            "295/296 [============================>.] - ETA: 0s - loss: 0.3845 - accuracy: 0.8715\n",
            "Epoch 17: val_accuracy did not improve from 0.86496\n",
            "296/296 [==============================] - 3s 12ms/step - loss: 0.3845 - accuracy: 0.8714 - val_loss: 0.4119 - val_accuracy: 0.8622\n",
            "Epoch 18/30\n",
            "292/296 [============================>.] - ETA: 0s - loss: 0.3611 - accuracy: 0.8753\n",
            "Epoch 18: val_accuracy did not improve from 0.86496\n",
            "296/296 [==============================] - 3s 11ms/step - loss: 0.3605 - accuracy: 0.8757 - val_loss: 0.4411 - val_accuracy: 0.8472\n",
            "Epoch 19/30\n",
            "294/296 [============================>.] - ETA: 0s - loss: 0.3448 - accuracy: 0.8797\n",
            "Epoch 19: val_accuracy improved from 0.86496 to 0.87472, saving model to best_model.h5\n",
            "296/296 [==============================] - 4s 15ms/step - loss: 0.3441 - accuracy: 0.8798 - val_loss: 0.3737 - val_accuracy: 0.8747\n",
            "Epoch 20/30\n",
            "291/296 [============================>.] - ETA: 0s - loss: 0.3270 - accuracy: 0.8839\n",
            "Epoch 20: val_accuracy did not improve from 0.87472\n",
            "296/296 [==============================] - 3s 12ms/step - loss: 0.3265 - accuracy: 0.8842 - val_loss: 0.3829 - val_accuracy: 0.8678\n",
            "Epoch 21/30\n",
            "291/296 [============================>.] - ETA: 0s - loss: 0.2962 - accuracy: 0.8956\n",
            "Epoch 21: val_accuracy did not improve from 0.87472\n",
            "296/296 [==============================] - 3s 12ms/step - loss: 0.2968 - accuracy: 0.8955 - val_loss: 0.3987 - val_accuracy: 0.8679\n",
            "Epoch 22/30\n",
            "296/296 [==============================] - ETA: 0s - loss: 0.2848 - accuracy: 0.8992\n",
            "Epoch 22: val_accuracy improved from 0.87472 to 0.87732, saving model to best_model.h5\n",
            "296/296 [==============================] - 3s 12ms/step - loss: 0.2848 - accuracy: 0.8992 - val_loss: 0.3640 - val_accuracy: 0.8773\n",
            "Epoch 23/30\n",
            "292/296 [============================>.] - ETA: 0s - loss: 0.2724 - accuracy: 0.9057\n",
            "Epoch 23: val_accuracy improved from 0.87732 to 0.88349, saving model to best_model.h5\n",
            "296/296 [==============================] - 4s 13ms/step - loss: 0.2733 - accuracy: 0.9053 - val_loss: 0.3609 - val_accuracy: 0.8835\n",
            "Epoch 24/30\n",
            "291/296 [============================>.] - ETA: 0s - loss: 0.2582 - accuracy: 0.9095\n",
            "Epoch 24: val_accuracy did not improve from 0.88349\n",
            "296/296 [==============================] - 3s 12ms/step - loss: 0.2581 - accuracy: 0.9093 - val_loss: 0.3649 - val_accuracy: 0.8813\n",
            "Epoch 25/30\n",
            "291/296 [============================>.] - ETA: 0s - loss: 0.2433 - accuracy: 0.9141\n",
            "Epoch 25: val_accuracy improved from 0.88349 to 0.88769, saving model to best_model.h5\n",
            "296/296 [==============================] - 4s 13ms/step - loss: 0.2429 - accuracy: 0.9143 - val_loss: 0.3576 - val_accuracy: 0.8877\n",
            "Epoch 26/30\n",
            "291/296 [============================>.] - ETA: 0s - loss: 0.2570 - accuracy: 0.9094\n",
            "Epoch 26: val_accuracy did not improve from 0.88769\n",
            "296/296 [==============================] - 4s 12ms/step - loss: 0.2582 - accuracy: 0.9091 - val_loss: 0.4688 - val_accuracy: 0.8536\n",
            "Epoch 27/30\n",
            "294/296 [============================>.] - ETA: 0s - loss: 0.2272 - accuracy: 0.9199\n",
            "Epoch 27: val_accuracy improved from 0.88769 to 0.89128, saving model to best_model.h5\n",
            "296/296 [==============================] - 5s 15ms/step - loss: 0.2271 - accuracy: 0.9199 - val_loss: 0.3403 - val_accuracy: 0.8913\n",
            "Epoch 28/30\n",
            "294/296 [============================>.] - ETA: 0s - loss: 0.2080 - accuracy: 0.9286\n",
            "Epoch 28: val_accuracy did not improve from 0.89128\n",
            "296/296 [==============================] - 3s 11ms/step - loss: 0.2087 - accuracy: 0.9283 - val_loss: 0.3701 - val_accuracy: 0.8908\n",
            "Epoch 29/30\n",
            "294/296 [============================>.] - ETA: 0s - loss: 0.1929 - accuracy: 0.9328\n",
            "Epoch 29: val_accuracy did not improve from 0.89128\n",
            "296/296 [==============================] - 3s 11ms/step - loss: 0.1927 - accuracy: 0.9328 - val_loss: 0.4115 - val_accuracy: 0.8815\n",
            "Epoch 30/30\n",
            "294/296 [============================>.] - ETA: 0s - loss: 0.1964 - accuracy: 0.9304\n",
            "Epoch 30: val_accuracy did not improve from 0.89128\n",
            "296/296 [==============================] - 4s 14ms/step - loss: 0.1965 - accuracy: 0.9303 - val_loss: 0.3751 - val_accuracy: 0.8865\n"
          ]
        }
      ]
    },
    {
      "cell_type": "code",
      "source": [
        "# Plot the learning curve\n",
        "plt.plot(history.history['accuracy'])\n",
        "plt.plot(history.history['val_accuracy'])\n",
        "plt.title('Model Accuracy')\n",
        "plt.ylabel('Accuracy')\n",
        "plt.xlabel('Epoch')\n",
        "plt.legend(['train', 'val'], loc='upper left')\n",
        "plt.show()"
      ],
      "metadata": {
        "colab": {
          "base_uri": "https://localhost:8080/",
          "height": 295
        },
        "id": "2PR2dRewRojG",
        "outputId": "6767ae58-d7e2-4ccf-fe08-bdfd434343cf"
      },
      "execution_count": 12,
      "outputs": [
        {
          "output_type": "display_data",
          "data": {
            "text/plain": [
              "<Figure size 432x288 with 1 Axes>"
            ],
            "image/png": "[encoded data removed]"
          },
          "metadata": {
            "needs_background": "light"
          }
        }
      ]
    },
    {
      "cell_type": "code",
      "source": [
        "plt.plot(history.history['loss'])\n",
        "plt.plot(history.history['val_loss'])\n",
        "plt.title('Model Loss')\n",
        "plt.ylabel('Loss')\n",
        "plt.xlabel('Epoch')\n",
        "plt.legend(['train', 'val'], loc='upper left')\n",
        "plt.show()"
      ],
      "metadata": {
        "colab": {
          "base_uri": "https://localhost:8080/",
          "height": 295
        },
        "id": "BFGRFSywSPJE",
        "outputId": "45ab7a72-37c2-4b40-eae7-a48acfcbd3c5"
      },
      "execution_count": 13,
      "outputs": [
        {
          "output_type": "display_data",
          "data": {
            "text/plain": [
              "<Figure size 432x288 with 1 Axes>"
            ],
            "image/png": "[encoded data removed]"
          },
          "metadata": {
            "needs_background": "light"
          }
        }
      ]
    },
    {
      "cell_type": "code",
      "source": [],
      "metadata": {
        "id": "pnDkboMG7Ycb"
      },
      "execution_count": 20,
      "outputs": []
    },
    {
      "cell_type": "code",
      "source": [],
      "metadata": {
        "id": "EopjriJ-BCi3"
      },
      "execution_count": null,
      "outputs": []
    }
  ]
}